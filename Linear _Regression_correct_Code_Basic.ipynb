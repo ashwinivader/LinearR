{
 "cells": [
  {
   "cell_type": "markdown",
   "id": "37ee66be",
   "metadata": {},
   "source": [
    "# Model Building"
   ]
  },
  {
   "cell_type": "code",
   "execution_count": 29,
   "id": "ed815c9c",
   "metadata": {},
   "outputs": [],
   "source": [
    "import numpy as np\n",
    "import pandas as pd\n",
    "import matplotlib.pyplot as plt\n",
    "import seaborn as sns\n",
    "\n",
    "from sklearn.pipeline import Pipeline\n",
    "from sklearn.impute import SimpleImputer\n",
    "from sklearn.preprocessing import StandardScaler, OneHotEncoder,FunctionTransformer\n",
    "from sklearn.linear_model import LinearRegression\n",
    "from sklearn.model_selection import train_test_split\n",
    "from sklearn.metrics import mean_squared_error\n",
    "import pandas as pd\n",
    "from sklearn.compose import ColumnTransformer"
   ]
  },
  {
   "cell_type": "code",
   "execution_count": 30,
   "id": "5e671b3c",
   "metadata": {},
   "outputs": [],
   "source": [
    "df=pd.read_csv(\"Car_Data.csv\")"
   ]
  },
  {
   "cell_type": "code",
   "execution_count": 31,
   "id": "c59c3797",
   "metadata": {},
   "outputs": [
    {
     "data": {
      "text/html": [
       "<div>\n",
       "<style scoped>\n",
       "    .dataframe tbody tr th:only-of-type {\n",
       "        vertical-align: middle;\n",
       "    }\n",
       "\n",
       "    .dataframe tbody tr th {\n",
       "        vertical-align: top;\n",
       "    }\n",
       "\n",
       "    .dataframe thead th {\n",
       "        text-align: right;\n",
       "    }\n",
       "</style>\n",
       "<table border=\"1\" class=\"dataframe\">\n",
       "  <thead>\n",
       "    <tr style=\"text-align: right;\">\n",
       "      <th></th>\n",
       "      <th>CarName</th>\n",
       "      <th>fueltype</th>\n",
       "      <th>aspiration</th>\n",
       "      <th>doornumber</th>\n",
       "      <th>carbody</th>\n",
       "      <th>drivewheel</th>\n",
       "      <th>enginelocation</th>\n",
       "      <th>wheelbase</th>\n",
       "      <th>carlength</th>\n",
       "      <th>carwidth</th>\n",
       "      <th>...</th>\n",
       "      <th>enginesize</th>\n",
       "      <th>fuelsystem</th>\n",
       "      <th>boreratio</th>\n",
       "      <th>stroke</th>\n",
       "      <th>compressionratio</th>\n",
       "      <th>horsepower</th>\n",
       "      <th>peakrpm</th>\n",
       "      <th>citympg</th>\n",
       "      <th>highwaympg</th>\n",
       "      <th>Price</th>\n",
       "    </tr>\n",
       "  </thead>\n",
       "  <tbody>\n",
       "    <tr>\n",
       "      <th>0</th>\n",
       "      <td>alfa-romero giulia</td>\n",
       "      <td>gas</td>\n",
       "      <td>std</td>\n",
       "      <td>two</td>\n",
       "      <td>convertible</td>\n",
       "      <td>rwd</td>\n",
       "      <td>front</td>\n",
       "      <td>88.6</td>\n",
       "      <td>168.8</td>\n",
       "      <td>64.1</td>\n",
       "      <td>...</td>\n",
       "      <td>130</td>\n",
       "      <td>mpfi</td>\n",
       "      <td>3.47</td>\n",
       "      <td>2.68</td>\n",
       "      <td>9.0</td>\n",
       "      <td>111</td>\n",
       "      <td>5000</td>\n",
       "      <td>21</td>\n",
       "      <td>27</td>\n",
       "      <td>13495.0</td>\n",
       "    </tr>\n",
       "    <tr>\n",
       "      <th>1</th>\n",
       "      <td>alfa-romero stelvio</td>\n",
       "      <td>gas</td>\n",
       "      <td>std</td>\n",
       "      <td>two</td>\n",
       "      <td>convertible</td>\n",
       "      <td>rwd</td>\n",
       "      <td>front</td>\n",
       "      <td>88.6</td>\n",
       "      <td>168.8</td>\n",
       "      <td>64.1</td>\n",
       "      <td>...</td>\n",
       "      <td>130</td>\n",
       "      <td>mpfi</td>\n",
       "      <td>3.47</td>\n",
       "      <td>2.68</td>\n",
       "      <td>9.0</td>\n",
       "      <td>111</td>\n",
       "      <td>5000</td>\n",
       "      <td>21</td>\n",
       "      <td>27</td>\n",
       "      <td>16500.0</td>\n",
       "    </tr>\n",
       "    <tr>\n",
       "      <th>2</th>\n",
       "      <td>alfa-romero Quadrifoglio</td>\n",
       "      <td>gas</td>\n",
       "      <td>std</td>\n",
       "      <td>two</td>\n",
       "      <td>hatchback</td>\n",
       "      <td>rwd</td>\n",
       "      <td>front</td>\n",
       "      <td>94.5</td>\n",
       "      <td>171.2</td>\n",
       "      <td>65.5</td>\n",
       "      <td>...</td>\n",
       "      <td>152</td>\n",
       "      <td>mpfi</td>\n",
       "      <td>2.68</td>\n",
       "      <td>3.47</td>\n",
       "      <td>9.0</td>\n",
       "      <td>154</td>\n",
       "      <td>5000</td>\n",
       "      <td>19</td>\n",
       "      <td>26</td>\n",
       "      <td>16500.0</td>\n",
       "    </tr>\n",
       "    <tr>\n",
       "      <th>3</th>\n",
       "      <td>audi 100 ls</td>\n",
       "      <td>gas</td>\n",
       "      <td>std</td>\n",
       "      <td>four</td>\n",
       "      <td>sedan</td>\n",
       "      <td>fwd</td>\n",
       "      <td>front</td>\n",
       "      <td>99.8</td>\n",
       "      <td>176.6</td>\n",
       "      <td>66.2</td>\n",
       "      <td>...</td>\n",
       "      <td>109</td>\n",
       "      <td>mpfi</td>\n",
       "      <td>3.19</td>\n",
       "      <td>3.40</td>\n",
       "      <td>10.0</td>\n",
       "      <td>102</td>\n",
       "      <td>5500</td>\n",
       "      <td>24</td>\n",
       "      <td>30</td>\n",
       "      <td>13950.0</td>\n",
       "    </tr>\n",
       "    <tr>\n",
       "      <th>4</th>\n",
       "      <td>audi 100ls</td>\n",
       "      <td>gas</td>\n",
       "      <td>std</td>\n",
       "      <td>four</td>\n",
       "      <td>sedan</td>\n",
       "      <td>4wd</td>\n",
       "      <td>front</td>\n",
       "      <td>99.4</td>\n",
       "      <td>176.6</td>\n",
       "      <td>66.4</td>\n",
       "      <td>...</td>\n",
       "      <td>136</td>\n",
       "      <td>mpfi</td>\n",
       "      <td>3.19</td>\n",
       "      <td>3.40</td>\n",
       "      <td>8.0</td>\n",
       "      <td>115</td>\n",
       "      <td>5500</td>\n",
       "      <td>18</td>\n",
       "      <td>22</td>\n",
       "      <td>17450.0</td>\n",
       "    </tr>\n",
       "    <tr>\n",
       "      <th>...</th>\n",
       "      <td>...</td>\n",
       "      <td>...</td>\n",
       "      <td>...</td>\n",
       "      <td>...</td>\n",
       "      <td>...</td>\n",
       "      <td>...</td>\n",
       "      <td>...</td>\n",
       "      <td>...</td>\n",
       "      <td>...</td>\n",
       "      <td>...</td>\n",
       "      <td>...</td>\n",
       "      <td>...</td>\n",
       "      <td>...</td>\n",
       "      <td>...</td>\n",
       "      <td>...</td>\n",
       "      <td>...</td>\n",
       "      <td>...</td>\n",
       "      <td>...</td>\n",
       "      <td>...</td>\n",
       "      <td>...</td>\n",
       "      <td>...</td>\n",
       "    </tr>\n",
       "    <tr>\n",
       "      <th>200</th>\n",
       "      <td>volvo 145e (sw)</td>\n",
       "      <td>gas</td>\n",
       "      <td>std</td>\n",
       "      <td>four</td>\n",
       "      <td>sedan</td>\n",
       "      <td>rwd</td>\n",
       "      <td>front</td>\n",
       "      <td>109.1</td>\n",
       "      <td>188.8</td>\n",
       "      <td>68.9</td>\n",
       "      <td>...</td>\n",
       "      <td>141</td>\n",
       "      <td>mpfi</td>\n",
       "      <td>3.78</td>\n",
       "      <td>3.15</td>\n",
       "      <td>9.5</td>\n",
       "      <td>114</td>\n",
       "      <td>5400</td>\n",
       "      <td>23</td>\n",
       "      <td>28</td>\n",
       "      <td>16845.0</td>\n",
       "    </tr>\n",
       "    <tr>\n",
       "      <th>201</th>\n",
       "      <td>volvo 144ea</td>\n",
       "      <td>gas</td>\n",
       "      <td>turbo</td>\n",
       "      <td>four</td>\n",
       "      <td>sedan</td>\n",
       "      <td>rwd</td>\n",
       "      <td>front</td>\n",
       "      <td>109.1</td>\n",
       "      <td>188.8</td>\n",
       "      <td>68.8</td>\n",
       "      <td>...</td>\n",
       "      <td>141</td>\n",
       "      <td>mpfi</td>\n",
       "      <td>3.78</td>\n",
       "      <td>3.15</td>\n",
       "      <td>8.7</td>\n",
       "      <td>160</td>\n",
       "      <td>5300</td>\n",
       "      <td>19</td>\n",
       "      <td>25</td>\n",
       "      <td>19045.0</td>\n",
       "    </tr>\n",
       "    <tr>\n",
       "      <th>202</th>\n",
       "      <td>volvo 244dl</td>\n",
       "      <td>gas</td>\n",
       "      <td>std</td>\n",
       "      <td>four</td>\n",
       "      <td>sedan</td>\n",
       "      <td>rwd</td>\n",
       "      <td>front</td>\n",
       "      <td>109.1</td>\n",
       "      <td>188.8</td>\n",
       "      <td>68.9</td>\n",
       "      <td>...</td>\n",
       "      <td>173</td>\n",
       "      <td>mpfi</td>\n",
       "      <td>3.58</td>\n",
       "      <td>2.87</td>\n",
       "      <td>8.8</td>\n",
       "      <td>134</td>\n",
       "      <td>5500</td>\n",
       "      <td>18</td>\n",
       "      <td>23</td>\n",
       "      <td>21485.0</td>\n",
       "    </tr>\n",
       "    <tr>\n",
       "      <th>203</th>\n",
       "      <td>volvo 246</td>\n",
       "      <td>diesel</td>\n",
       "      <td>turbo</td>\n",
       "      <td>four</td>\n",
       "      <td>sedan</td>\n",
       "      <td>rwd</td>\n",
       "      <td>front</td>\n",
       "      <td>109.1</td>\n",
       "      <td>188.8</td>\n",
       "      <td>68.9</td>\n",
       "      <td>...</td>\n",
       "      <td>145</td>\n",
       "      <td>idi</td>\n",
       "      <td>3.01</td>\n",
       "      <td>3.40</td>\n",
       "      <td>23.0</td>\n",
       "      <td>106</td>\n",
       "      <td>4800</td>\n",
       "      <td>26</td>\n",
       "      <td>27</td>\n",
       "      <td>22470.0</td>\n",
       "    </tr>\n",
       "    <tr>\n",
       "      <th>204</th>\n",
       "      <td>volvo 264gl</td>\n",
       "      <td>gas</td>\n",
       "      <td>turbo</td>\n",
       "      <td>four</td>\n",
       "      <td>sedan</td>\n",
       "      <td>rwd</td>\n",
       "      <td>front</td>\n",
       "      <td>109.1</td>\n",
       "      <td>188.8</td>\n",
       "      <td>68.9</td>\n",
       "      <td>...</td>\n",
       "      <td>141</td>\n",
       "      <td>mpfi</td>\n",
       "      <td>3.78</td>\n",
       "      <td>3.15</td>\n",
       "      <td>9.5</td>\n",
       "      <td>114</td>\n",
       "      <td>5400</td>\n",
       "      <td>19</td>\n",
       "      <td>25</td>\n",
       "      <td>22625.0</td>\n",
       "    </tr>\n",
       "  </tbody>\n",
       "</table>\n",
       "<p>205 rows × 24 columns</p>\n",
       "</div>"
      ],
      "text/plain": [
       "                      CarName fueltype aspiration doornumber      carbody  \\\n",
       "0          alfa-romero giulia      gas        std        two  convertible   \n",
       "1         alfa-romero stelvio      gas        std        two  convertible   \n",
       "2    alfa-romero Quadrifoglio      gas        std        two    hatchback   \n",
       "3                 audi 100 ls      gas        std       four        sedan   \n",
       "4                  audi 100ls      gas        std       four        sedan   \n",
       "..                        ...      ...        ...        ...          ...   \n",
       "200           volvo 145e (sw)      gas        std       four        sedan   \n",
       "201               volvo 144ea      gas      turbo       four        sedan   \n",
       "202               volvo 244dl      gas        std       four        sedan   \n",
       "203                 volvo 246   diesel      turbo       four        sedan   \n",
       "204               volvo 264gl      gas      turbo       four        sedan   \n",
       "\n",
       "    drivewheel enginelocation  wheelbase  carlength  carwidth  ...  \\\n",
       "0          rwd          front       88.6      168.8      64.1  ...   \n",
       "1          rwd          front       88.6      168.8      64.1  ...   \n",
       "2          rwd          front       94.5      171.2      65.5  ...   \n",
       "3          fwd          front       99.8      176.6      66.2  ...   \n",
       "4          4wd          front       99.4      176.6      66.4  ...   \n",
       "..         ...            ...        ...        ...       ...  ...   \n",
       "200        rwd          front      109.1      188.8      68.9  ...   \n",
       "201        rwd          front      109.1      188.8      68.8  ...   \n",
       "202        rwd          front      109.1      188.8      68.9  ...   \n",
       "203        rwd          front      109.1      188.8      68.9  ...   \n",
       "204        rwd          front      109.1      188.8      68.9  ...   \n",
       "\n",
       "     enginesize  fuelsystem boreratio stroke  compressionratio horsepower  \\\n",
       "0           130        mpfi      3.47   2.68               9.0        111   \n",
       "1           130        mpfi      3.47   2.68               9.0        111   \n",
       "2           152        mpfi      2.68   3.47               9.0        154   \n",
       "3           109        mpfi      3.19   3.40              10.0        102   \n",
       "4           136        mpfi      3.19   3.40               8.0        115   \n",
       "..          ...         ...       ...    ...               ...        ...   \n",
       "200         141        mpfi      3.78   3.15               9.5        114   \n",
       "201         141        mpfi      3.78   3.15               8.7        160   \n",
       "202         173        mpfi      3.58   2.87               8.8        134   \n",
       "203         145         idi      3.01   3.40              23.0        106   \n",
       "204         141        mpfi      3.78   3.15               9.5        114   \n",
       "\n",
       "     peakrpm  citympg  highwaympg    Price  \n",
       "0       5000       21          27  13495.0  \n",
       "1       5000       21          27  16500.0  \n",
       "2       5000       19          26  16500.0  \n",
       "3       5500       24          30  13950.0  \n",
       "4       5500       18          22  17450.0  \n",
       "..       ...      ...         ...      ...  \n",
       "200     5400       23          28  16845.0  \n",
       "201     5300       19          25  19045.0  \n",
       "202     5500       18          23  21485.0  \n",
       "203     4800       26          27  22470.0  \n",
       "204     5400       19          25  22625.0  \n",
       "\n",
       "[205 rows x 24 columns]"
      ]
     },
     "execution_count": 31,
     "metadata": {},
     "output_type": "execute_result"
    }
   ],
   "source": [
    "df"
   ]
  },
  {
   "cell_type": "code",
   "execution_count": 32,
   "id": "a8b868dc",
   "metadata": {
    "scrolled": true
   },
   "outputs": [
    {
     "data": {
      "text/plain": [
       "Index(['CarName', 'fueltype', 'aspiration', 'doornumber', 'carbody',\n",
       "       'drivewheel', 'enginelocation', 'wheelbase', 'carlength', 'carwidth',\n",
       "       'carheight', 'curbweight', 'enginetype', 'cylindernumber', 'enginesize',\n",
       "       'fuelsystem', 'boreratio', 'stroke', 'compressionratio', 'horsepower',\n",
       "       'peakrpm', 'citympg', 'highwaympg', 'Price'],\n",
       "      dtype='object')"
      ]
     },
     "execution_count": 32,
     "metadata": {},
     "output_type": "execute_result"
    }
   ],
   "source": [
    "df.columns"
   ]
  },
  {
   "cell_type": "code",
   "execution_count": 33,
   "id": "fa4113fe",
   "metadata": {},
   "outputs": [],
   "source": [
    "X = df.drop('Price', axis=1)\n",
    "y = df['Price']"
   ]
  },
  {
   "cell_type": "code",
   "execution_count": 34,
   "id": "b2bc16ef",
   "metadata": {},
   "outputs": [],
   "source": [
    "X_train, X_test, y_train, y_test = train_test_split(X, y, test_size=0.2, random_state=30)"
   ]
  },
  {
   "cell_type": "code",
   "execution_count": 35,
   "id": "8cb7bba9",
   "metadata": {},
   "outputs": [
    {
     "data": {
      "text/html": [
       "<div>\n",
       "<style scoped>\n",
       "    .dataframe tbody tr th:only-of-type {\n",
       "        vertical-align: middle;\n",
       "    }\n",
       "\n",
       "    .dataframe tbody tr th {\n",
       "        vertical-align: top;\n",
       "    }\n",
       "\n",
       "    .dataframe thead th {\n",
       "        text-align: right;\n",
       "    }\n",
       "</style>\n",
       "<table border=\"1\" class=\"dataframe\">\n",
       "  <thead>\n",
       "    <tr style=\"text-align: right;\">\n",
       "      <th></th>\n",
       "      <th>CarName</th>\n",
       "      <th>fueltype</th>\n",
       "      <th>aspiration</th>\n",
       "      <th>doornumber</th>\n",
       "      <th>carbody</th>\n",
       "      <th>drivewheel</th>\n",
       "      <th>enginelocation</th>\n",
       "      <th>wheelbase</th>\n",
       "      <th>carlength</th>\n",
       "      <th>carwidth</th>\n",
       "      <th>...</th>\n",
       "      <th>cylindernumber</th>\n",
       "      <th>enginesize</th>\n",
       "      <th>fuelsystem</th>\n",
       "      <th>boreratio</th>\n",
       "      <th>stroke</th>\n",
       "      <th>compressionratio</th>\n",
       "      <th>horsepower</th>\n",
       "      <th>peakrpm</th>\n",
       "      <th>citympg</th>\n",
       "      <th>highwaympg</th>\n",
       "    </tr>\n",
       "  </thead>\n",
       "  <tbody>\n",
       "    <tr>\n",
       "      <th>1</th>\n",
       "      <td>alfa-romero stelvio</td>\n",
       "      <td>gas</td>\n",
       "      <td>std</td>\n",
       "      <td>two</td>\n",
       "      <td>convertible</td>\n",
       "      <td>rwd</td>\n",
       "      <td>front</td>\n",
       "      <td>88.6</td>\n",
       "      <td>168.8</td>\n",
       "      <td>64.1</td>\n",
       "      <td>...</td>\n",
       "      <td>four</td>\n",
       "      <td>130</td>\n",
       "      <td>mpfi</td>\n",
       "      <td>3.47</td>\n",
       "      <td>2.68</td>\n",
       "      <td>9.0</td>\n",
       "      <td>111</td>\n",
       "      <td>5000</td>\n",
       "      <td>21</td>\n",
       "      <td>27</td>\n",
       "    </tr>\n",
       "    <tr>\n",
       "      <th>112</th>\n",
       "      <td>peugeot 604sl</td>\n",
       "      <td>diesel</td>\n",
       "      <td>turbo</td>\n",
       "      <td>four</td>\n",
       "      <td>sedan</td>\n",
       "      <td>rwd</td>\n",
       "      <td>front</td>\n",
       "      <td>107.9</td>\n",
       "      <td>186.7</td>\n",
       "      <td>68.4</td>\n",
       "      <td>...</td>\n",
       "      <td>four</td>\n",
       "      <td>152</td>\n",
       "      <td>idi</td>\n",
       "      <td>3.70</td>\n",
       "      <td>3.52</td>\n",
       "      <td>21.0</td>\n",
       "      <td>95</td>\n",
       "      <td>4150</td>\n",
       "      <td>28</td>\n",
       "      <td>33</td>\n",
       "    </tr>\n",
       "    <tr>\n",
       "      <th>162</th>\n",
       "      <td>toyota mark ii</td>\n",
       "      <td>gas</td>\n",
       "      <td>std</td>\n",
       "      <td>four</td>\n",
       "      <td>sedan</td>\n",
       "      <td>fwd</td>\n",
       "      <td>front</td>\n",
       "      <td>95.7</td>\n",
       "      <td>166.3</td>\n",
       "      <td>64.4</td>\n",
       "      <td>...</td>\n",
       "      <td>four</td>\n",
       "      <td>98</td>\n",
       "      <td>2bbl</td>\n",
       "      <td>3.19</td>\n",
       "      <td>3.03</td>\n",
       "      <td>9.0</td>\n",
       "      <td>70</td>\n",
       "      <td>4800</td>\n",
       "      <td>28</td>\n",
       "      <td>34</td>\n",
       "    </tr>\n",
       "    <tr>\n",
       "      <th>87</th>\n",
       "      <td>mitsubishi outlander</td>\n",
       "      <td>gas</td>\n",
       "      <td>turbo</td>\n",
       "      <td>four</td>\n",
       "      <td>sedan</td>\n",
       "      <td>fwd</td>\n",
       "      <td>front</td>\n",
       "      <td>96.3</td>\n",
       "      <td>172.4</td>\n",
       "      <td>65.4</td>\n",
       "      <td>...</td>\n",
       "      <td>four</td>\n",
       "      <td>110</td>\n",
       "      <td>spdi</td>\n",
       "      <td>3.17</td>\n",
       "      <td>3.46</td>\n",
       "      <td>7.5</td>\n",
       "      <td>116</td>\n",
       "      <td>5500</td>\n",
       "      <td>23</td>\n",
       "      <td>30</td>\n",
       "    </tr>\n",
       "    <tr>\n",
       "      <th>99</th>\n",
       "      <td>nissan rogue</td>\n",
       "      <td>gas</td>\n",
       "      <td>std</td>\n",
       "      <td>four</td>\n",
       "      <td>hatchback</td>\n",
       "      <td>fwd</td>\n",
       "      <td>front</td>\n",
       "      <td>97.2</td>\n",
       "      <td>173.4</td>\n",
       "      <td>65.2</td>\n",
       "      <td>...</td>\n",
       "      <td>four</td>\n",
       "      <td>120</td>\n",
       "      <td>2bbl</td>\n",
       "      <td>3.33</td>\n",
       "      <td>3.47</td>\n",
       "      <td>8.5</td>\n",
       "      <td>97</td>\n",
       "      <td>5200</td>\n",
       "      <td>27</td>\n",
       "      <td>34</td>\n",
       "    </tr>\n",
       "  </tbody>\n",
       "</table>\n",
       "<p>5 rows × 23 columns</p>\n",
       "</div>"
      ],
      "text/plain": [
       "                  CarName fueltype aspiration doornumber      carbody  \\\n",
       "1     alfa-romero stelvio      gas        std        two  convertible   \n",
       "112         peugeot 604sl   diesel      turbo       four        sedan   \n",
       "162        toyota mark ii      gas        std       four        sedan   \n",
       "87   mitsubishi outlander      gas      turbo       four        sedan   \n",
       "99           nissan rogue      gas        std       four    hatchback   \n",
       "\n",
       "    drivewheel enginelocation  wheelbase  carlength  carwidth  ...  \\\n",
       "1          rwd          front       88.6      168.8      64.1  ...   \n",
       "112        rwd          front      107.9      186.7      68.4  ...   \n",
       "162        fwd          front       95.7      166.3      64.4  ...   \n",
       "87         fwd          front       96.3      172.4      65.4  ...   \n",
       "99         fwd          front       97.2      173.4      65.2  ...   \n",
       "\n",
       "     cylindernumber  enginesize fuelsystem boreratio  stroke compressionratio  \\\n",
       "1              four         130       mpfi      3.47    2.68              9.0   \n",
       "112            four         152        idi      3.70    3.52             21.0   \n",
       "162            four          98       2bbl      3.19    3.03              9.0   \n",
       "87             four         110       spdi      3.17    3.46              7.5   \n",
       "99             four         120       2bbl      3.33    3.47              8.5   \n",
       "\n",
       "     horsepower  peakrpm  citympg  highwaympg  \n",
       "1           111     5000       21          27  \n",
       "112          95     4150       28          33  \n",
       "162          70     4800       28          34  \n",
       "87          116     5500       23          30  \n",
       "99           97     5200       27          34  \n",
       "\n",
       "[5 rows x 23 columns]"
      ]
     },
     "execution_count": 35,
     "metadata": {},
     "output_type": "execute_result"
    }
   ],
   "source": [
    "X_train.head()"
   ]
  },
  {
   "cell_type": "code",
   "execution_count": 36,
   "id": "02738c41",
   "metadata": {},
   "outputs": [
    {
     "data": {
      "text/plain": [
       "23"
      ]
     },
     "execution_count": 36,
     "metadata": {},
     "output_type": "execute_result"
    }
   ],
   "source": [
    "len(X_train.dtypes)"
   ]
  },
  {
   "cell_type": "code",
   "execution_count": 37,
   "id": "c20c86ad",
   "metadata": {},
   "outputs": [],
   "source": [
    "numeric_features =(X.select_dtypes(include=np.number).columns.tolist())\n",
    "cat_features= X.select_dtypes(exclude=np.number).columns.tolist()"
   ]
  },
  {
   "cell_type": "code",
   "execution_count": 38,
   "id": "31444210",
   "metadata": {},
   "outputs": [
    {
     "data": {
      "text/plain": [
       "13"
      ]
     },
     "execution_count": 38,
     "metadata": {},
     "output_type": "execute_result"
    }
   ],
   "source": [
    "len(numeric_features)"
   ]
  },
  {
   "cell_type": "code",
   "execution_count": 39,
   "id": "2d319eb7",
   "metadata": {},
   "outputs": [
    {
     "data": {
      "text/plain": [
       "10"
      ]
     },
     "execution_count": 39,
     "metadata": {},
     "output_type": "execute_result"
    }
   ],
   "source": [
    "len(cat_features)"
   ]
  },
  {
   "cell_type": "code",
   "execution_count": 40,
   "id": "398db752",
   "metadata": {},
   "outputs": [],
   "source": [
    "def preprocess_numeric_data(X):\n",
    "    scaler = StandardScaler()\n",
    "    X_scaled = scaler.fit_transform(X)\n",
    "    return X_scaled, scaler"
   ]
  },
  {
   "cell_type": "code",
   "execution_count": 41,
   "id": "87a68cc5",
   "metadata": {},
   "outputs": [],
   "source": [
    "X_train[numeric_features], scaler = preprocess_numeric_data(X_train[numeric_features])"
   ]
  },
  {
   "cell_type": "code",
   "execution_count": 42,
   "id": "273875ff",
   "metadata": {},
   "outputs": [
    {
     "data": {
      "text/plain": [
       "['scaler.joblib']"
      ]
     },
     "execution_count": 42,
     "metadata": {},
     "output_type": "execute_result"
    }
   ],
   "source": [
    "import joblib\n",
    "joblib.dump(scaler, 'scaler.joblib')"
   ]
  },
  {
   "cell_type": "code",
   "execution_count": 43,
   "id": "f7fafc51",
   "metadata": {},
   "outputs": [],
   "source": [
    "# Custom function for categorical data preprocessing\n",
    "def preprocess_categorical_data(X):\n",
    "    encoder = OneHotEncoder(drop='first', handle_unknown='ignore')\n",
    "    X_encoded = encoder.fit_transform(X)\n",
    "    return X_encoded, encoder"
   ]
  },
  {
   "cell_type": "code",
   "execution_count": 44,
   "id": "12d414f0",
   "metadata": {},
   "outputs": [],
   "source": [
    "X_train_categorical,encoder= preprocess_categorical_data(X_train[cat_features])"
   ]
  },
  {
   "cell_type": "code",
   "execution_count": 45,
   "id": "c95137c0",
   "metadata": {},
   "outputs": [
    {
     "data": {
      "text/plain": [
       "['encoder.joblib']"
      ]
     },
     "execution_count": 45,
     "metadata": {},
     "output_type": "execute_result"
    }
   ],
   "source": [
    "import joblib\n",
    "joblib.dump(encoder, 'encoder.joblib')"
   ]
  },
  {
   "cell_type": "code",
   "execution_count": 62,
   "id": "b837efaf",
   "metadata": {
    "scrolled": true
   },
   "outputs": [
    {
     "data": {
      "text/html": [
       "<style>#sk-container-id-1 {color: black;}#sk-container-id-1 pre{padding: 0;}#sk-container-id-1 div.sk-toggleable {background-color: white;}#sk-container-id-1 label.sk-toggleable__label {cursor: pointer;display: block;width: 100%;margin-bottom: 0;padding: 0.3em;box-sizing: border-box;text-align: center;}#sk-container-id-1 label.sk-toggleable__label-arrow:before {content: \"▸\";float: left;margin-right: 0.25em;color: #696969;}#sk-container-id-1 label.sk-toggleable__label-arrow:hover:before {color: black;}#sk-container-id-1 div.sk-estimator:hover label.sk-toggleable__label-arrow:before {color: black;}#sk-container-id-1 div.sk-toggleable__content {max-height: 0;max-width: 0;overflow: hidden;text-align: left;background-color: #f0f8ff;}#sk-container-id-1 div.sk-toggleable__content pre {margin: 0.2em;color: black;border-radius: 0.25em;background-color: #f0f8ff;}#sk-container-id-1 input.sk-toggleable__control:checked~div.sk-toggleable__content {max-height: 200px;max-width: 100%;overflow: auto;}#sk-container-id-1 input.sk-toggleable__control:checked~label.sk-toggleable__label-arrow:before {content: \"▾\";}#sk-container-id-1 div.sk-estimator input.sk-toggleable__control:checked~label.sk-toggleable__label {background-color: #d4ebff;}#sk-container-id-1 div.sk-label input.sk-toggleable__control:checked~label.sk-toggleable__label {background-color: #d4ebff;}#sk-container-id-1 input.sk-hidden--visually {border: 0;clip: rect(1px 1px 1px 1px);clip: rect(1px, 1px, 1px, 1px);height: 1px;margin: -1px;overflow: hidden;padding: 0;position: absolute;width: 1px;}#sk-container-id-1 div.sk-estimator {font-family: monospace;background-color: #f0f8ff;border: 1px dotted black;border-radius: 0.25em;box-sizing: border-box;margin-bottom: 0.5em;}#sk-container-id-1 div.sk-estimator:hover {background-color: #d4ebff;}#sk-container-id-1 div.sk-parallel-item::after {content: \"\";width: 100%;border-bottom: 1px solid gray;flex-grow: 1;}#sk-container-id-1 div.sk-label:hover label.sk-toggleable__label {background-color: #d4ebff;}#sk-container-id-1 div.sk-serial::before {content: \"\";position: absolute;border-left: 1px solid gray;box-sizing: border-box;top: 0;bottom: 0;left: 50%;z-index: 0;}#sk-container-id-1 div.sk-serial {display: flex;flex-direction: column;align-items: center;background-color: white;padding-right: 0.2em;padding-left: 0.2em;position: relative;}#sk-container-id-1 div.sk-item {position: relative;z-index: 1;}#sk-container-id-1 div.sk-parallel {display: flex;align-items: stretch;justify-content: center;background-color: white;position: relative;}#sk-container-id-1 div.sk-item::before, #sk-container-id-1 div.sk-parallel-item::before {content: \"\";position: absolute;border-left: 1px solid gray;box-sizing: border-box;top: 0;bottom: 0;left: 50%;z-index: -1;}#sk-container-id-1 div.sk-parallel-item {display: flex;flex-direction: column;z-index: 1;position: relative;background-color: white;}#sk-container-id-1 div.sk-parallel-item:first-child::after {align-self: flex-end;width: 50%;}#sk-container-id-1 div.sk-parallel-item:last-child::after {align-self: flex-start;width: 50%;}#sk-container-id-1 div.sk-parallel-item:only-child::after {width: 0;}#sk-container-id-1 div.sk-dashed-wrapped {border: 1px dashed gray;margin: 0 0.4em 0.5em 0.4em;box-sizing: border-box;padding-bottom: 0.4em;background-color: white;}#sk-container-id-1 div.sk-label label {font-family: monospace;font-weight: bold;display: inline-block;line-height: 1.2em;}#sk-container-id-1 div.sk-label-container {text-align: center;}#sk-container-id-1 div.sk-container {/* jupyter's `normalize.less` sets `[hidden] { display: none; }` but bootstrap.min.css set `[hidden] { display: none !important; }` so we also need the `!important` here to be able to override the default hidden behavior on the sphinx rendered scikit-learn.org. See: https://github.com/scikit-learn/scikit-learn/issues/21755 */display: inline-block !important;position: relative;}#sk-container-id-1 div.sk-text-repr-fallback {display: none;}</style><div id=\"sk-container-id-1\" class=\"sk-top-container\"><div class=\"sk-text-repr-fallback\"><pre>LinearRegression()</pre><b>In a Jupyter environment, please rerun this cell to show the HTML representation or trust the notebook. <br />On GitHub, the HTML representation is unable to render, please try loading this page with nbviewer.org.</b></div><div class=\"sk-container\" hidden><div class=\"sk-item\"><div class=\"sk-estimator sk-toggleable\"><input class=\"sk-toggleable__control sk-hidden--visually\" id=\"sk-estimator-id-1\" type=\"checkbox\" checked><label for=\"sk-estimator-id-1\" class=\"sk-toggleable__label sk-toggleable__label-arrow\">LinearRegression</label><div class=\"sk-toggleable__content\"><pre>LinearRegression()</pre></div></div></div></div></div>"
      ],
      "text/plain": [
       "LinearRegression()"
      ]
     },
     "execution_count": 62,
     "metadata": {},
     "output_type": "execute_result"
    }
   ],
   "source": [
    "model = LinearRegression()\n",
    "model.fit(np.hstack([X_train[numeric_features], X_train_categorical.toarray()]), y_train)\n"
   ]
  },
  {
   "cell_type": "markdown",
   "id": "c81cb86f",
   "metadata": {},
   "source": [
    "# Model testing"
   ]
  },
  {
   "cell_type": "code",
   "execution_count": 66,
   "id": "beb90900",
   "metadata": {},
   "outputs": [],
   "source": [
    "import joblib\n",
    "scaler = joblib.load('scaler.joblib')\n",
    "encoder = joblib.load('encoder.joblib')"
   ]
  },
  {
   "cell_type": "code",
   "execution_count": 70,
   "id": "51f82506",
   "metadata": {},
   "outputs": [
    {
     "name": "stdout",
     "output_type": "stream",
     "text": [
      "Predictions on Test Data:\n",
      "[ 1.20890938e+04  9.94884375e+03  1.20800000e+04  8.36159375e+03\n",
      " -3.21673516e+14  1.71444688e+04  1.37035938e+04  1.08759688e+04\n",
      "  1.24338438e+04  9.57296875e+03  9.51259375e+03  6.02040625e+03\n",
      "  1.57486562e+04  2.33736562e+04  9.03953125e+03  1.14061875e+04\n",
      "  5.47015625e+03  8.49346875e+03  7.76765625e+03  8.21590625e+03\n",
      "  4.89378842e+13  1.27298125e+04  9.20231250e+03 -2.38009372e+14\n",
      "  1.84008930e+14  1.06459375e+03  4.89378842e+13  4.55465625e+03\n",
      "  1.48358750e+04  9.71096875e+03  1.07880312e+04  4.12477812e+04\n",
      "  9.13940625e+03  5.07134375e+03  4.89378842e+13  1.12728438e+04\n",
      "  6.54968750e+03  1.11523438e+04  2.38009372e+14  1.46876129e+14\n",
      "  1.37035938e+04]\n"
     ]
    },
    {
     "name": "stderr",
     "output_type": "stream",
     "text": [
      "d:\\Projectss\\mlproject\\venv\\Lib\\site-packages\\sklearn\\preprocessing\\_encoders.py:228: UserWarning: Found unknown categories in columns [0, 7] during transform. These unknown categories will be encoded as all zeros\n",
      "  warnings.warn(\n"
     ]
    }
   ],
   "source": [
    "# Using scaler transform numeric cols\n",
    "X_test_numeric=scaler.transform(X_test[numeric_features])\n",
    "\n",
    "\n",
    "# Using encoder transform numeric cols\n",
    "X_test_categorical=encoder.transform(X_test[cat_features])\n",
    "\n",
    "# Predictions on the test set\n",
    "predictions=model.predict(np.hstack([X_test_numeric, X_test_categorical.toarray()]))\n",
    "\n",
    "# Print the predictions\n",
    "print(\"Predictions on Test Data:\")\n",
    "print(predictions)"
   ]
  },
  {
   "cell_type": "markdown",
   "id": "dde13071",
   "metadata": {},
   "source": [
    "# Check for Loss"
   ]
  },
  {
   "cell_type": "code",
   "execution_count": 75,
   "id": "998a1ace",
   "metadata": {},
   "outputs": [],
   "source": [
    "from sklearn.metrics import r2_score"
   ]
  },
  {
   "cell_type": "code",
   "execution_count": null,
   "id": "c419e480",
   "metadata": {
    "scrolled": true
   },
   "outputs": [
    {
     "data": {
      "text/plain": [
       "0.7114814181796709"
      ]
     },
     "execution_count": 108,
     "metadata": {},
     "output_type": "execute_result"
    }
   ],
   "source": [
    "r2_score(y_test,predictions)"
   ]
  },
  {
   "cell_type": "code",
   "execution_count": 72,
   "id": "ad7b6f26",
   "metadata": {},
   "outputs": [],
   "source": [
    "\n",
    "\n",
    "predictionstrain=model.predict(np.hstack([X_train[numeric_features], X_train_categorical.toarray()]))\n"
   ]
  },
  {
   "cell_type": "code",
   "execution_count": 73,
   "id": "010d35dc",
   "metadata": {},
   "outputs": [
    {
     "data": {
      "text/plain": [
       "array([16499.84375, 16629.96875,  8791.15625,  9117.90625,  9962.96875,\n",
       "       15749.21875, 15249.     ,  6998.65625, 16190.40625,  9271.96875,\n",
       "       36164.15625, 13495.     ,  9979.75   , 25551.53125, 32528.03125,\n",
       "       20970.34375,  7299.03125, 13947.96875, 17669.5625 , 15588.90625,\n",
       "       18420.59375,  7363.28125, 16500.46875, 11739.1875 , 10345.03125,\n",
       "       14495.1875 , 13498.34375,  7609.03125, 15621.96875, 15984.90625,\n",
       "        9094.15625,  6188.375  , 28248.8125 , 16515.09375, 40959.59375,\n",
       "       12439.09375, 12260.84375, 24563.84375,  5820.90625,  8448.78125,\n",
       "        8189.40625, 12943.78125, 18344.53125,  6983.21875, 12787.03125,\n",
       "       17073.71875, 16612.59375, 31600.53125,  7293.34375,  7986.84375,\n",
       "       14590.28125,  7099.46875,  5497.15625,  7348.21875, 11595.03125,\n",
       "       13844.21875, 12371.34375, 22469.46875, 32251.03125,  7897.96875,\n",
       "       14914.46875, 18418.46875,  6056.625  , 45400.21875,  7227.625  ,\n",
       "        7774.59375, 17536.3125 , 10595.40625,  8180.5    ,  5348.5625 ,\n",
       "       37027.96875,  6988.96875,  6095.375  ,  5389.75   , 22018.125  ,\n",
       "       12763.8125 , 11821.46875, 12963.8125 ,  7709.46875,  7957.65625,\n",
       "       18039.28125,  6235.09375, 13173.65625,  5815.21875,  6686.28125,\n",
       "        9954.03125, 13198.65625, 12659.78125,  7975.09375, 34183.65625,\n",
       "       19124.90625,  7776.03125, 15645.09375, 13956.90625,  7645.8125 ,\n",
       "        4536.625  , 16623.71875, 34026.90625,  8248.96875, 17626.3125 ,\n",
       "       13331.53125, 17858.40625,  6528.6875 , 11199.21875, 41315.15625,\n",
       "        8921.21875,  6785.28125,  7754.5    ,  8916.71875,  6795.1875 ,\n",
       "       35999.71875,  6295.40625,  9537.9375 , 19699.28125, 28176.78125,\n",
       "       13293.28125,  6917.84375,  6377.25   ,  5988.3125 , 18731.96875,\n",
       "        8843.71875,  7798.75   , 16503.53125, 17199.15625,  6668.375  ,\n",
       "        5638.09375, 16280.8125 ,  8298.78125, 10530.53125,  6856.625  ,\n",
       "       21823.09375, 18950.59375, 30759.09375, 16732.34375, 16097.28125,\n",
       "       11658.5    ,  9625.96875, 11043.6875 ,  8558.78125, 10535.65625,\n",
       "       15040.53125,  9234.40625, 14398.28125, 17739.53125,  8493.59375,\n",
       "        5149.96875,  8059.09375, 21484.03125, 10353.78125, 17864.28125,\n",
       "        7956.65625, 18919.03125,  9583.53125,  9894.375  , 10697.28125,\n",
       "       11260.71875,  6403.78125,  9294.40625,  6655.53125,  7296.15625,\n",
       "        8915.21875,  9233.78125,  9298.09375,  8919.28125])"
      ]
     },
     "execution_count": 73,
     "metadata": {},
     "output_type": "execute_result"
    }
   ],
   "source": [
    "predictionstrain"
   ]
  },
  {
   "cell_type": "code",
   "execution_count": 76,
   "id": "58da0605",
   "metadata": {},
   "outputs": [
    {
     "data": {
      "text/plain": [
       "0.997688070559093"
      ]
     },
     "execution_count": 76,
     "metadata": {},
     "output_type": "execute_result"
    }
   ],
   "source": [
    "r2_score(y_train,predictionstrain)"
   ]
  },
  {
   "cell_type": "code",
   "execution_count": null,
   "id": "cf78a9a8",
   "metadata": {},
   "outputs": [],
   "source": []
  },
  {
   "cell_type": "code",
   "execution_count": null,
   "id": "5851bf99",
   "metadata": {},
   "outputs": [],
   "source": []
  },
  {
   "cell_type": "code",
   "execution_count": null,
   "id": "9b50a0aa",
   "metadata": {},
   "outputs": [],
   "source": []
  },
  {
   "cell_type": "code",
   "execution_count": null,
   "id": "3fe88893",
   "metadata": {},
   "outputs": [],
   "source": []
  },
  {
   "cell_type": "code",
   "execution_count": null,
   "id": "c3cbb051",
   "metadata": {},
   "outputs": [],
   "source": []
  },
  {
   "cell_type": "code",
   "execution_count": null,
   "id": "1ff412b2",
   "metadata": {},
   "outputs": [],
   "source": []
  },
  {
   "cell_type": "code",
   "execution_count": null,
   "id": "3526f1ac",
   "metadata": {},
   "outputs": [],
   "source": []
  },
  {
   "cell_type": "code",
   "execution_count": null,
   "id": "f538e90e",
   "metadata": {},
   "outputs": [],
   "source": []
  },
  {
   "cell_type": "code",
   "execution_count": null,
   "id": "95e0b35b",
   "metadata": {},
   "outputs": [],
   "source": []
  },
  {
   "cell_type": "code",
   "execution_count": null,
   "id": "1bbb7591",
   "metadata": {},
   "outputs": [],
   "source": []
  },
  {
   "cell_type": "code",
   "execution_count": null,
   "id": "776b8e4a",
   "metadata": {},
   "outputs": [],
   "source": []
  },
  {
   "cell_type": "code",
   "execution_count": null,
   "id": "821e55e4",
   "metadata": {},
   "outputs": [],
   "source": []
  },
  {
   "cell_type": "code",
   "execution_count": null,
   "id": "41f4fc34",
   "metadata": {},
   "outputs": [],
   "source": []
  },
  {
   "cell_type": "code",
   "execution_count": null,
   "id": "8ed774f8",
   "metadata": {},
   "outputs": [],
   "source": []
  },
  {
   "cell_type": "code",
   "execution_count": null,
   "id": "01b0b82d",
   "metadata": {},
   "outputs": [],
   "source": []
  },
  {
   "cell_type": "code",
   "execution_count": null,
   "id": "5d3d106f",
   "metadata": {},
   "outputs": [],
   "source": []
  },
  {
   "cell_type": "code",
   "execution_count": null,
   "id": "c0160149",
   "metadata": {},
   "outputs": [],
   "source": []
  },
  {
   "cell_type": "code",
   "execution_count": null,
   "id": "de08082b",
   "metadata": {},
   "outputs": [],
   "source": []
  },
  {
   "cell_type": "code",
   "execution_count": null,
   "id": "bde776f2",
   "metadata": {},
   "outputs": [],
   "source": []
  },
  {
   "cell_type": "code",
   "execution_count": null,
   "id": "1f6ff18e",
   "metadata": {},
   "outputs": [],
   "source": []
  },
  {
   "cell_type": "markdown",
   "id": "8a5ca561",
   "metadata": {},
   "source": [
    "# Here is the correct sample Code"
   ]
  },
  {
   "cell_type": "code",
   "execution_count": null,
   "id": "347283cf",
   "metadata": {},
   "outputs": [
    {
     "data": {
      "text/plain": [
       "['encoder.joblib']"
      ]
     },
     "execution_count": 55,
     "metadata": {},
     "output_type": "execute_result"
    }
   ],
   "source": [
    "import pandas as pd\n",
    "from sklearn.linear_model import LinearRegression\n",
    "from sklearn.preprocessing import StandardScaler, OneHotEncoder\n",
    "from scipy.sparse import hstack\n",
    "import joblib\n",
    "\n",
    "# Sample training data\n",
    "train_data = {\n",
    "    'NumericCol1': [1, 2, 3, 4, 5],\n",
    "    'NumericCol2': [10, 20, 10, 30, 40],\n",
    "    'CategoricalCol': ['A', 'B', 'A', 'B', 'A'],\n",
    "    'Target': [15, 25, 20, 35, 45]\n",
    "}\n",
    "\n",
    "df_train = pd.DataFrame(train_data)\n",
    "\n",
    "# Separate features and target\n",
    "X_train = df_train.drop('Target', axis=1)\n",
    "y_train = df_train['Target']\n",
    "\n",
    "# Define numeric and categorical features\n",
    "numeric_features = ['NumericCol1', 'NumericCol2']\n",
    "categorical_features = ['CategoricalCol']\n",
    "\n",
    "# Custom function for numeric data preprocessing\n",
    "def preprocess_numeric_data(X):\n",
    "    scaler = StandardScaler()\n",
    "    X_scaled = scaler.fit_transform(X)\n",
    "    return X_scaled, scaler\n",
    "\n",
    "# Custom function for categorical data preprocessing\n",
    "def preprocess_categorical_data(X):\n",
    "    encoder = OneHotEncoder(drop='first', handle_unknown='ignore')\n",
    "    X_encoded = encoder.fit_transform(X)\n",
    "    return X_encoded, encoder\n",
    "\n",
    "# Combine both numeric and categorical preprocessing\n",
    "def preprocess_data(X):\n",
    "    X_numeric, scaler = preprocess_numeric_data(X[numeric_features])\n",
    "    X_categorical, encoder = preprocess_categorical_data(X[categorical_features])\n",
    "    return X_numeric, X_categorical, scaler, encoder\n",
    "\n",
    "# Preprocess the training data\n",
    "X_train_numeric, X_train_categorical, scaler, encoder = preprocess_data(X_train)\n",
    "\n",
    "# Train the model (Linear Regression in this case)\n",
    "model = LinearRegression()\n",
    "model.fit(hstack([X_train_numeric, X_train_categorical]), y_train)\n",
    "\n",
    "# Save preprocessing objects for later use\n",
    "joblib.dump(scaler, 'scaler.joblib')\n",
    "joblib.dump(encoder, 'encoder.joblib')\n",
    "\n"
   ]
  },
  {
   "cell_type": "code",
   "execution_count": null,
   "id": "6a3a8e10",
   "metadata": {},
   "outputs": [
    {
     "name": "stdout",
     "output_type": "stream",
     "text": [
      "Predictions on Test Data:\n",
      "[14.43334144 27.9375     41.6499919 ]\n"
     ]
    }
   ],
   "source": [
    "# --------------- Now, for the Test Data ---------------\n",
    "\n",
    "# Sample test data\n",
    "test_data = {\n",
    "    'NumericCol1': [6, 7, 8],\n",
    "    'NumericCol2': [50, 60, 70],\n",
    "    'CategoricalCol': ['A', 'B','A'] # Introduce an unseen category 'C'\n",
    "}\n",
    "\n",
    "df_test = pd.DataFrame(test_data)\n",
    "\n",
    "# Preprocess the test data using the same scaler and encoder from training\n",
    "X_test_numeric, _ = preprocess_numeric_data(df_test[numeric_features])\n",
    "\n",
    "\n",
    "X_test_categorical, _ = preprocess_categorical_data(df_test[categorical_features])\n",
    "\n",
    "# Predictions on the test set\n",
    "predictions=model.predict(hstack([X_test_numeric, X_test_categorical]))\n",
    "\n",
    "\n",
    "# Print the predictions\n",
    "print(\"Predictions on Test Data:\")\n",
    "print(predictions)\n"
   ]
  },
  {
   "cell_type": "code",
   "execution_count": null,
   "id": "1d0138ac",
   "metadata": {},
   "outputs": [
    {
     "data": {
      "text/plain": [
       "<3x1 sparse matrix of type '<class 'numpy.float64'>'\n",
       "\twith 1 stored elements in Compressed Sparse Row format>"
      ]
     },
     "execution_count": 100,
     "metadata": {},
     "output_type": "execute_result"
    }
   ],
   "source": [
    "X_test_categorical"
   ]
  },
  {
   "cell_type": "code",
   "execution_count": null,
   "id": "f4c9a1a0",
   "metadata": {},
   "outputs": [
    {
     "data": {
      "text/plain": [
       "array([[-1.22474487, -1.22474487],\n",
       "       [ 0.        ,  0.        ],\n",
       "       [ 1.22474487,  1.22474487]])"
      ]
     },
     "execution_count": 99,
     "metadata": {},
     "output_type": "execute_result"
    }
   ],
   "source": [
    "X_test_numeric"
   ]
  },
  {
   "cell_type": "code",
   "execution_count": null,
   "id": "f3a50b4e",
   "metadata": {},
   "outputs": [],
   "source": []
  }
 ],
 "metadata": {
  "kernelspec": {
   "display_name": "Python 3 (ipykernel)",
   "language": "python",
   "name": "python3"
  },
  "language_info": {
   "codemirror_mode": {
    "name": "ipython",
    "version": 3
   },
   "file_extension": ".py",
   "mimetype": "text/x-python",
   "name": "python",
   "nbconvert_exporter": "python",
   "pygments_lexer": "ipython3",
   "version": "3.11.5"
  }
 },
 "nbformat": 4,
 "nbformat_minor": 5
}
